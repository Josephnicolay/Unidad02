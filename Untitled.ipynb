{
 "cells": [
  {
   "cell_type": "markdown",
   "metadata": {},
   "source": [
    "# Método de bisección"
   ]
  },
  {
   "cell_type": "markdown",
   "metadata": {},
   "source": [
    "Vamos a resolver la ecuación $x^3+4x^2-10=0$ en el intervalo [1,2]"
   ]
  },
  {
   "cell_type": "code",
   "execution_count": 1,
   "metadata": {
    "collapsed": true
   },
   "outputs": [],
   "source": [
    "import math\n",
    "import numpy as np\n",
    "import matplotlib as plt"
   ]
  },
  {
   "cell_type": "markdown",
   "metadata": {},
   "source": [
    "# Funciones auxiliares"
   ]
  },
  {
   "cell_type": "code",
   "execution_count": 11,
   "metadata": {
    "collapsed": true
   },
   "outputs": [],
   "source": [
    "#Definimos la función a resolver\n",
    "def func(x):\n",
    "    value=(x**3)+(4*x**2)-10\n",
    "    return value\n",
    "def sign(x):\n",
    "    if x>0:\n",
    "        return 1\n",
    "    elif x<0:\n",
    "        return -1\n",
    "    else:\n",
    "        return 0\n",
    "    "
   ]
  },
  {
   "cell_type": "markdown",
   "metadata": {},
   "source": [
    "# El método\n"
   ]
  },
  {
   "cell_type": "code",
   "execution_count": 12,
   "metadata": {},
   "outputs": [
    {
     "name": "stdout",
     "output_type": "stream",
     "text": [
      "pi=1.250000\t ai=1.000000\t bi=1.500000\t f(pi)=-1.796875\t error=0.250000\n",
      "pi=1.250000\t ai=1.250000\t bi=1.250000\t f(pi)=-1.796875\t error=0.000000\n"
     ]
    }
   ],
   "source": [
    "# longitud inicial del intervalo\n",
    "ai=1.0\n",
    "bi=2.0\n",
    "#Tolerancia\n",
    "Tol=1.0e-15\n",
    "#Número máximo de iteraciones\n",
    "Nmax=1000\n",
    "#Error inicial\n",
    "error=1.0\n",
    "iteracion=0.0\n",
    "#Verificación del T. valor intermedio \n",
    "\n",
    "if (sign(func(ai)*func(bi)<0)):\n",
    "    while (error>Tol):\n",
    "        pi=0.5*(ai+bi)\n",
    "        pi_prev=pi\n",
    "\n",
    "        if (sign(func(pi))==sign(func(ai))):\n",
    "            ai=pi\n",
    "            bi=pi\n",
    "\n",
    "        elif (sign(func(pi))==sign(func(bi))):\n",
    "            ai=ai\n",
    "            bi=pi\n",
    "\n",
    "        pi=0.5*(ai+bi)\n",
    "        error=abs(pi-pi_prev)\n",
    "        iteracion =iteracion+1\n",
    "        \n",
    "        print('pi=%f\\t ai=%f\\t bi=%f\\t f(pi)=%f\\t error=%f'%(pi,ai,bi,func(pi),error))\n",
    "        \n",
    "        if (iteracion>=Nmax):\n",
    "            print('Ha excedido el numero de iteraciones')\n",
    "            break\n",
    "        \n",
    "\n",
    "else:\n",
    "    print('Intervalo inadecuado, no cumple con la condición del teorema')\n",
    "    "
   ]
  },
  {
   "cell_type": "code",
   "execution_count": null,
   "metadata": {
    "collapsed": true
   },
   "outputs": [],
   "source": []
  }
 ],
 "metadata": {
  "kernelspec": {
   "display_name": "Python 3",
   "language": "python",
   "name": "python3"
  },
  "language_info": {
   "codemirror_mode": {
    "name": "ipython",
    "version": 3
   },
   "file_extension": ".py",
   "mimetype": "text/x-python",
   "name": "python",
   "nbconvert_exporter": "python",
   "pygments_lexer": "ipython3",
   "version": "3.6.3"
  }
 },
 "nbformat": 4,
 "nbformat_minor": 2
}
