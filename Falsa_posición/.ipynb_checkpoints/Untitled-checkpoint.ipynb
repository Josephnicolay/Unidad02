{
 "cells": [
  {
   "cell_type": "markdown",
   "metadata": {},
   "source": [
    "# El método de la falsa posición "
   ]
  },
  {
   "cell_type": "markdown",
   "metadata": {},
   "source": [
    "Resolver la ecuación $2-x+3\\sin(x)$ usando el método de la falsa posición "
   ]
  },
  {
   "cell_type": "code",
   "execution_count": 34,
   "metadata": {
    "collapsed": true
   },
   "outputs": [],
   "source": [
    "import math as m\n",
    "import numpy as np"
   ]
  },
  {
   "cell_type": "code",
   "execution_count": 35,
   "metadata": {
    "collapsed": true
   },
   "outputs": [],
   "source": [
    "# Definimos la función\n",
    "def f(x):\n",
    "    value=2-x*3*np.sin(x)\n",
    "    return value"
   ]
  },
  {
   "cell_type": "code",
   "execution_count": 45,
   "metadata": {
    "collapsed": true
   },
   "outputs": [],
   "source": [
    "#Inputs\n",
    "p_prev1=5\n",
    "p_prev2=0\n",
    "tol=1e-10\n",
    "error= 1.0\n",
    "Nmax=1000\n",
    "iteracion=0"
   ]
  },
  {
   "cell_type": "code",
   "execution_count": 46,
   "metadata": {},
   "outputs": [
    {
     "name": "stdout",
     "output_type": "stream",
     "text": [
      "p_n = -0.6952234751809376\t error = 5.6952234751809376\t abs(f(p_n)) = 0.6640090747438345\n",
      "p_n = -1.0407607747000738\t error = 1.0407607747000738\t abs(f(p_n)) = 0.6938711476146007\n",
      "p_n = -0.7726878663975137\t error = 0.2680729083025600\t abs(f(p_n)) = 0.3818470310355324\n",
      "p_n = -0.8678455444659864\t error = 0.0951576780684726\t abs(f(p_n)) = 0.0136631916503906\n",
      "p_n = -0.8711847095055434\t error = 0.1695760651945304\t abs(f(p_n)) = 0.0003897754238227\n",
      "p_n = -0.8712799137443072\t error = 0.0000952042387639\t abs(f(p_n)) = 0.0000110256364854\n",
      "p_n = -0.8712826067582455\t error = 0.1694781679418282\t abs(f(p_n)) = 0.0000003118084626\n",
      "p_n = -0.8712826829174912\t error = 0.0000000761592457\t abs(f(p_n)) = 0.0000000088179812\n",
      "p_n = -0.8712826850712839\t error = 0.1694780896287899\t abs(f(p_n)) = 0.0000000002493736\n",
      "p_n = -0.8712826851321934\t error = 0.0000000000609095\t abs(f(p_n)) = 0.0000000000070524\n"
     ]
    }
   ],
   "source": [
    "#Ejecutación del algoritmo \n",
    "while (error>tol):\n",
    "    p = p_prev1 - (f(p_prev1)*(p_prev1-p_prev2))/(f(p_prev1)-f(p_prev2))\n",
    "    error = abs(p-p_prev1)\n",
    "    \n",
    "    if(f(p)*f(p_prev1)<0):\n",
    "        p_prev2=p_prev1\n",
    "        p_prev1=p\n",
    "        print('p_n = %.16f\\t error = %.16f\\t abs(f(p_n)) = %.16f'%(p,error,abs(f(p))))\n",
    "    elif(f(p)*f(p_prev1)>0):\n",
    "        p_prev1=p_prev2\n",
    "        p_prev2=p\n",
    "        print('p_n = %.16f\\t error = %.16f\\t abs(f(p_n)) = %.16f'%(p,error,abs(f(p))))\n",
    "    \n",
    "   \n",
    "    iteracion=iteracion+1\n",
    "    if(iteracion>=Nmax):\n",
    "        print('El método no converge después de %d iteraciones'%(Nmax))\n",
    "        break\n",
    "        "
   ]
  },
  {
   "cell_type": "code",
   "execution_count": null,
   "metadata": {
    "collapsed": true
   },
   "outputs": [],
   "source": []
  },
  {
   "cell_type": "code",
   "execution_count": null,
   "metadata": {
    "collapsed": true
   },
   "outputs": [],
   "source": []
  }
 ],
 "metadata": {
  "kernelspec": {
   "display_name": "Python 3",
   "language": "python",
   "name": "python3"
  },
  "language_info": {
   "codemirror_mode": {
    "name": "ipython",
    "version": 3
   },
   "file_extension": ".py",
   "mimetype": "text/x-python",
   "name": "python",
   "nbconvert_exporter": "python",
   "pygments_lexer": "ipython3",
   "version": "3.6.3"
  }
 },
 "nbformat": 4,
 "nbformat_minor": 2
}
